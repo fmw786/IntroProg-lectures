{
 "cells": [
  {
   "attachments": {},
   "cell_type": "markdown",
   "metadata": {},
   "source": [
    "# AS-AD model"
   ]
  },
  {
   "attachments": {},
   "cell_type": "markdown",
   "metadata": {},
   "source": [
    "Consider the following AS-AD model:\n",
    "\n",
    "1. AD: $ y_{t}-\\bar{y} = \\alpha (\\pi^{\\ast}-\\pi_t) + z_t$\n",
    "2. SRAS: $\\pi_t = \\pi^e_t + \\gamma (y_t-\\bar{y}) + s_t$\n",
    "3. Expectations: $ \\pi^e_t = \\phi \\pi^e_{t-1} + (1-\\phi)\\pi_{t-1}$\n",
    "4. Demand shock: $z_{t} = \\delta z_{t-1}+x_{t}, x_{t} \\sim N(0,\\sigma_x^2)$\n",
    "5. Supply shock: $s_{t} = \\delta s_{t-1}+c_{t}, c_{t} \\sim N(0,\\sigma_x^2)$\n",
    "\n",
    "Define the output and inflation gaps:\n",
    "\n",
    "1. Output gap: $\\hat{y}_{t} = y_t-\\bar{y}$\n",
    "2. Inflation gap: $\\hat{\\pi}_{t} = \\pi-\\pi^{\\ast}$\n",
    "\n",
    "We can write the model as:\n",
    "\n",
    "$$\n",
    "\\begin{aligned}\n",
    "\\hat{y}_{t} &= b\\hat{y}_{t-1}+\\beta(z_{t}-z_{t-1})-a\\beta s_{t}+a\\beta\\phi s_{t-1} \\\\\n",
    "\\hat{\\pi}_{t} &= b\\hat{\\pi}_{t-1}+\\beta\\gamma z_{t}-\\beta\\phi\\gamma z_{t}+\\beta s_{t}-\\beta\\phi s_{t-1} \\\\\n",
    "\\end{aligned}\n",
    "$$\n",
    "\n",
    "where \n",
    "\n",
    "$$\n",
    "\\begin{aligned}\n",
    "b &= \\frac{1+a\\phi\\gamma}{1+a\\gamma} \\\\\n",
    "\\beta &= \\frac{1}{1+a\\gamma}\n",
    "\\end{aligned}\n",
    "$$"
   ]
  },
  {
   "attachments": {},
   "cell_type": "markdown",
   "metadata": {},
   "source": [
    "**Tasks:** \n",
    "\n",
    "1. Simulate the AS-AD model\n",
    "2. Consider how the model matches the data"
   ]
  },
  {
   "attachments": {},
   "cell_type": "markdown",
   "metadata": {},
   "source": [
    "**Baseline parameters**:"
   ]
  },
  {
   "cell_type": "code",
   "execution_count": 31,
   "metadata": {},
   "outputs": [],
   "source": [
    "a = 0.4\n",
    "gamma = 0.1\n",
    "phi = 0.0\n",
    "delta = 0.8\n",
    "omega = 0.15\n",
    "sigma_x = 0.1\n",
    "sigma_c = 0.1"
   ]
  },
  {
   "attachments": {},
   "cell_type": "markdown",
   "metadata": {},
   "source": [
    "**Data:**\n",
    "\n",
    "1. $var(y_t) = 1.64$\n",
    "2. $var(\\pi_t) = 0.21$\n",
    "3. $corr(y_t,\\pi_t) = 0.31$\n",
    "4. $corr(y_t,y_{t-1}) = 0.84$\n",
    "5. $corr(\\pi_t,\\pi_{t-1}) = 0.48$"
   ]
  }
 ],
 "metadata": {
  "kernelspec": {
   "display_name": "Python 3 (ipykernel)",
   "language": "python",
   "name": "python3"
  },
  "language_info": {
   "codemirror_mode": {
    "name": "ipython",
    "version": 3
   },
   "file_extension": ".py",
   "mimetype": "text/x-python",
   "name": "python",
   "nbconvert_exporter": "python",
   "pygments_lexer": "ipython3",
   "version": "3.9.15"
  },
  "toc-autonumbering": true
 },
 "nbformat": 4,
 "nbformat_minor": 4
}
